{
 "cells": [
  {
   "attachments": {},
   "cell_type": "markdown",
   "metadata": {},
   "source": [
    "# Using Python to Create Beautiful Visualizations of Call of Duty Weapon and Attachment Dependencies\n",
    "### _Because this was neccessary... on some level? Maybe?_"
   ]
  },
  {
   "cell_type": "code",
   "execution_count": null,
   "metadata": {},
   "outputs": [],
   "source": [
    "import pandas as pd\n",
    "import pickle\n",
    "from requirementtuple import Requirement"
   ]
  },
  {
   "attachments": {},
   "cell_type": "markdown",
   "metadata": {},
   "source": [
    "## Convert dict to Pandas dataframe "
   ]
  },
  {
   "cell_type": "code",
   "execution_count": 2,
   "metadata": {},
   "outputs": [],
   "source": [
    "TEST_MODE = True\n",
    "data = None\n"
   ]
  },
  {
   "attachments": {},
   "cell_type": "markdown",
   "metadata": {},
   "source": [
    "## Convert dict to Pandas dataframe "
   ]
  },
  {
   "cell_type": "code",
   "execution_count": 3,
   "metadata": {},
   "outputs": [
    {
     "data": {
      "text/html": [
       "<div>\n",
       "<style scoped>\n",
       "    .dataframe tbody tr th:only-of-type {\n",
       "        vertical-align: middle;\n",
       "    }\n",
       "\n",
       "    .dataframe tbody tr th {\n",
       "        vertical-align: top;\n",
       "    }\n",
       "\n",
       "    .dataframe thead th {\n",
       "        text-align: right;\n",
       "    }\n",
       "</style>\n",
       "<table border=\"1\" class=\"dataframe\">\n",
       "  <thead>\n",
       "    <tr style=\"text-align: right;\">\n",
       "      <th></th>\n",
       "      <th>0</th>\n",
       "      <th>1</th>\n",
       "      <th>2</th>\n",
       "    </tr>\n",
       "  </thead>\n",
       "  <tbody>\n",
       "    <tr>\n",
       "      <th>Forge DX90-F</th>\n",
       "      <td>(X12, 11)</td>\n",
       "      <td>(MX9, 15)</td>\n",
       "      <td>(P890, 21)</td>\n",
       "    </tr>\n",
       "    <tr>\n",
       "      <th>.500 Hollowpoint</th>\n",
       "      <td>(Basilisk, 3)</td>\n",
       "      <td>(Basilisk, 18)</td>\n",
       "      <td>NaN</td>\n",
       "    </tr>\n",
       "    <tr>\n",
       "      <th>XRK Sandstorm</th>\n",
       "      <td>(Fennec 45, 10)</td>\n",
       "      <td>(Fennec 45, 19)</td>\n",
       "      <td>NaN</td>\n",
       "    </tr>\n",
       "    <tr>\n",
       "      <th>SZ Ultra 11.5x</th>\n",
       "      <td>(Victus XMR, 7)</td>\n",
       "      <td>(LA-B 330, 10)</td>\n",
       "      <td>NaN</td>\n",
       "    </tr>\n",
       "    <tr>\n",
       "      <th>Lockshot KT85</th>\n",
       "      <td>(RPK, 9)</td>\n",
       "      <td>(Lachmann Sub, 10)</td>\n",
       "      <td>NaN</td>\n",
       "    </tr>\n",
       "    <tr>\n",
       "      <th>...</th>\n",
       "      <td>...</td>\n",
       "      <td>...</td>\n",
       "      <td>...</td>\n",
       "    </tr>\n",
       "    <tr>\n",
       "      <th>LM-S</th>\n",
       "      <td>NaN</td>\n",
       "      <td>NaN</td>\n",
       "      <td>NaN</td>\n",
       "    </tr>\n",
       "    <tr>\n",
       "      <th>JOKR</th>\n",
       "      <td>NaN</td>\n",
       "      <td>NaN</td>\n",
       "      <td>NaN</td>\n",
       "    </tr>\n",
       "    <tr>\n",
       "      <th>Combat Knife</th>\n",
       "      <td>NaN</td>\n",
       "      <td>NaN</td>\n",
       "      <td>NaN</td>\n",
       "    </tr>\n",
       "    <tr>\n",
       "      <th>Strela-P</th>\n",
       "      <td>NaN</td>\n",
       "      <td>NaN</td>\n",
       "      <td>NaN</td>\n",
       "    </tr>\n",
       "    <tr>\n",
       "      <th>PILA</th>\n",
       "      <td>NaN</td>\n",
       "      <td>NaN</td>\n",
       "      <td>NaN</td>\n",
       "    </tr>\n",
       "  </tbody>\n",
       "</table>\n",
       "<p>826 rows × 3 columns</p>\n",
       "</div>"
      ],
      "text/plain": [
       "                                0                   1           2\n",
       "Forge DX90-F            (X12, 11)           (MX9, 15)  (P890, 21)\n",
       ".500 Hollowpoint    (Basilisk, 3)      (Basilisk, 18)         NaN\n",
       "XRK Sandstorm     (Fennec 45, 10)     (Fennec 45, 19)         NaN\n",
       "SZ Ultra 11.5x    (Victus XMR, 7)      (LA-B 330, 10)         NaN\n",
       "Lockshot KT85            (RPK, 9)  (Lachmann Sub, 10)         NaN\n",
       "...                           ...                 ...         ...\n",
       "LM-S                          NaN                 NaN         NaN\n",
       "JOKR                          NaN                 NaN         NaN\n",
       "Combat Knife                  NaN                 NaN         NaN\n",
       "Strela-P                      NaN                 NaN         NaN\n",
       "PILA                          NaN                 NaN         NaN\n",
       "\n",
       "[826 rows x 3 columns]"
      ]
     },
     "metadata": {},
     "output_type": "display_data"
    },
    {
     "name": "stdout",
     "output_type": "stream",
     "text": [
      "hello\n"
     ]
    }
   ],
   "source": [
    "\n",
    "data = None\n",
    "with open(\"all_weapons_data.pickle\", \"rb\") as f:\n",
    "        data = pickle.load(f)\n",
    "dict_from_series = dict([(gun_name,pd.Series(reqs, dtype='object')) for gun_name, reqs in data.items()])\n",
    "df = pd.DataFrame(dict_from_series)\n",
    "df = df.transpose()\n",
    "sorted_df = df.sort_values(by= df.columns.tolist()[::-1], na_position='last')\n",
    "display(sorted_df)"
   ]
  }
 ],
 "metadata": {
  "kernelspec": {
   "display_name": ".venv",
   "language": "python",
   "name": "python3"
  },
  "language_info": {
   "codemirror_mode": {
    "name": "ipython",
    "version": 3
   },
   "file_extension": ".py",
   "mimetype": "text/x-python",
   "name": "python",
   "nbconvert_exporter": "python",
   "pygments_lexer": "ipython3",
   "version": "3.11.1"
  },
  "orig_nbformat": 4,
  "vscode": {
   "interpreter": {
    "hash": "fb5de2ebbe4b0dd620b5461711da5a8e87e59612773e27e0bac7ef10d344884c"
   }
  }
 },
 "nbformat": 4,
 "nbformat_minor": 2
}
