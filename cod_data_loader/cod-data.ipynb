{
 "cells": [
  {
   "cell_type": "code",
   "execution_count": null,
   "metadata": {},
   "outputs": [],
   "source": [
    "import cv2 as cv\n",
    "import numpy as np\n",
    "from matplotlib import pyplot as plt\n",
    "import utils.utils_image as image_util\n",
    "img = cv.imread('res/inventory1.jpg')\n",
    "img2 = img.copy()\n",
    "template = cv.imread('res/needle_kastov.jpg', 0)\n",
    "\n",
    "mser = cv.MSER_create()\n",
    "# img = cv.imread('signboard.jpg')\n",
    "gray = cv.cvtColor(img, cv.COLOR_BGR2GRAY)\n",
    "vis = img.copy()\n",
    "regions, _ = mser.detectRegions(gray)\n",
    "hulls = [cv.convexHull(p.reshape(-1, 1, 2)) for p in regions]\n",
    "cv.polylines(vis, hulls, 1, (0, 255, 0))\n"
   ]
  }
 ],
 "metadata": {
  "kernelspec": {
   "display_name": ".venv",
   "language": "python",
   "name": "python3"
  },
  "language_info": {
   "codemirror_mode": {
    "name": "ipython",
    "version": 3
   },
   "file_extension": ".py",
   "mimetype": "text/x-python",
   "name": "python",
   "nbconvert_exporter": "python",
   "pygments_lexer": "ipython3",
   "version": "3.11.1 (main, Dec 30 2022, 01:31:28) [Clang 13.1.6 (clang-1316.0.21.2.5)]"
  },
  "orig_nbformat": 4,
  "vscode": {
   "interpreter": {
    "hash": "fb5de2ebbe4b0dd620b5461711da5a8e87e59612773e27e0bac7ef10d344884c"
   }
  }
 },
 "nbformat": 4,
 "nbformat_minor": 2
}
